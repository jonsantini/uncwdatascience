{
 "cells": [
  {
   "cell_type": "markdown",
   "metadata": {},
   "source": [
    "# Assignment 1\n",
    "\n",
    "**Due Friday, 9/1/23, by 11:59 pm**\n",
    "\n",
    "**Remember to go to File -> Save and Checkpoint before the due date.**"
   ]
  },
  {
   "cell_type": "markdown",
   "metadata": {},
   "source": [
    "**Score 62/62**"
   ]
  },
  {
   "cell_type": "markdown",
   "metadata": {},
   "source": [
    "1. \\[1, 2, 9, 64, 625, 7776, 117649, 2097152, 43046721, 1000000000]\n",
    "\n",
    "  a. Use a for loop and arithmetic operations to create the list above.\n",
    "  \n",
    "  b. Use a list comprehension to create the same list.\n",
    "  \n",
    "**Hint**: $1^0=1$, or in python 1**0 = 1. How can you express the last item in the list as a power?"
   ]
  },
  {
   "cell_type": "code",
   "execution_count": 6,
   "metadata": {},
   "outputs": [],
   "source": [
    "# You need random for exercises 5,6,7\n",
    "\n",
    "import random"
   ]
  },
  {
   "cell_type": "markdown",
   "metadata": {},
   "source": [
    "a) The pattern goes $1^{0}, 2^1, 3^2, 4^3, 5^4, 6^5, 7^6, 8^7, 9^8, 10^9 $"
   ]
  },
  {
   "cell_type": "code",
   "execution_count": 15,
   "metadata": {},
   "outputs": [
    {
     "name": "stdout",
     "output_type": "stream",
     "text": [
      "[1, 2, 9, 64, 625, 7776, 117649, 2097152, 43046721, 1000000000]\n"
     ]
    }
   ],
   "source": [
    "# 1a) \n",
    "\n",
    "lisst = []\n",
    "iterations = list(range(1,11))\n",
    "\n",
    "x = 1\n",
    "y = 0 \n",
    "\n",
    "for i in iterations:\n",
    "    lisst.append(x**y)\n",
    "    x += 1\n",
    "    y += 1\n",
    "\n",
    "\n",
    "print(lisst)"
   ]
  },
  {
   "cell_type": "code",
   "execution_count": 29,
   "metadata": {},
   "outputs": [
    {
     "name": "stdout",
     "output_type": "stream",
     "text": [
      "[1, 2, 9, 64, 625, 7776, 117649, 2097152, 43046721, 1000000000]\n"
     ]
    }
   ],
   "source": [
    "# 1b)\n",
    "\n",
    "lisst2 = []\n",
    "\n",
    "lisst3 = [lisst2.append((i+1)**i) for i in range(0,10) ]\n",
    "print(lisst2)"
   ]
  },
  {
   "cell_type": "markdown",
   "metadata": {},
   "source": [
    "2. Compute $2^{10}-2^9+2^8-2^7+2^6-2^5+2^4-2^3$:\n",
    "\n",
    "  a. using a loop\n",
    "  \n",
    "  b. on one line using sum() and a list comprehension."
   ]
  },
  {
   "cell_type": "code",
   "execution_count": 4,
   "metadata": {},
   "outputs": [
    {
     "name": "stdout",
     "output_type": "stream",
     "text": [
      "680\n"
     ]
    }
   ],
   "source": [
    "#2a\n",
    "\n",
    "# Computation is 680.\n",
    "\n",
    "\n",
    "total=0\n",
    "\n",
    "for i in range(10,2,-1):\n",
    "    if i %2==0:\n",
    "        total+=2**i\n",
    "    else:\n",
    "        total-=2**i\n",
    "print(total)"
   ]
  },
  {
   "cell_type": "code",
   "execution_count": 3,
   "metadata": {},
   "outputs": [
    {
     "data": {
      "text/plain": [
       "680"
      ]
     },
     "execution_count": 3,
     "metadata": {},
     "output_type": "execute_result"
    }
   ],
   "source": [
    "#2b\n",
    "\n",
    "# Computation is 680.\n",
    "\n",
    "list2b = sum([(2**i) if i%2==0 else (-1*(2**i)) for i in range(10,2,-1)])\n",
    "      \n",
    "list2b"
   ]
  },
  {
   "cell_type": "code",
   "execution_count": 4,
   "metadata": {},
   "outputs": [],
   "source": [
    "# String for exercises\n",
    "\n",
    "str1 = '''\n",
    "Lorem ipsum dolor sit amet, consectetur adipiscing elit, \n",
    "sed do eiusmod tempor incididunt ut labore et dolore magna aliqua. \n",
    "Tincidunt id aliquet risus feugiat. Tellus rutrum tellus pellentesque \n",
    "eu tincidunt. Tincidunt arcu non sodales neque sodales. Vestibulum \n",
    "mattis ullamcorper velit sed ullamcorper. Lacus vel facilisis volutpat \n",
    "est velit egestas dui id ornare. Pellentesque id nibh tortor id aliquet \n",
    "lectus proin nibh nisl. Aliquam ultrices sagittis orci a scelerisque \n",
    "purus semper eget duis. Eu facilisis sed odio morbi quis commodo. \n",
    "Penatibus et magnis dis parturient montes nascetur. Ut sem viverra aliquet \n",
    "eget. Sed vulputate mi sit amet mauris commodo quis. Ultrices vitae auctor \n",
    "eu augue ut lectus arcu. Felis donec et odio pellentesque diam.\n",
    "'''"
   ]
  },
  {
   "cell_type": "markdown",
   "metadata": {},
   "source": [
    "3. Count the number of times 'e' or 'E' occurs in str1.  You may use a loop, but it is possible to do this in one line using the string method lower() and the list method count()."
   ]
  },
  {
   "cell_type": "code",
   "execution_count": 9,
   "metadata": {},
   "outputs": [
    {
     "data": {
      "text/plain": [
       "76"
      ]
     },
     "execution_count": 9,
     "metadata": {},
     "output_type": "execute_result"
    }
   ],
   "source": [
    "#3\n",
    "\n",
    "str2 = str1.lower()\n",
    "str2.count('e')"
   ]
  },
  {
   "cell_type": "markdown",
   "metadata": {},
   "source": [
    "4. Use a loop to count the number of words in str1 that end with a vowel.\n",
    "\n",
    "Hint: The string contains commas and periods, and they could trip you up.  One way around that is to first replace the periods and commas with spaces."
   ]
  },
  {
   "cell_type": "code",
   "execution_count": 24,
   "metadata": {},
   "outputs": [
    {
     "data": {
      "text/plain": [
       "29"
      ]
     },
     "execution_count": 24,
     "metadata": {},
     "output_type": "execute_result"
    }
   ],
   "source": [
    "#4\n",
    "\n",
    "str2 = str1.replace('.', ' ')\n",
    "str3 = str2.replace(',', ' ')\n",
    "str4 = list(str3.split())\n",
    "\n",
    "count=0\n",
    "\n",
    "for i in str4:\n",
    "    if i[-1] == 'a':\n",
    "        count+=1\n",
    "    elif i[-1] == 'e':\n",
    "        count+=1\n",
    "    elif i[-1] == 'i':\n",
    "        count+=1\n",
    "    elif i[-1] == 'o':\n",
    "        count+=1\n",
    "    elif i[-1] == 'u':\n",
    "        count+=1\n",
    "    \n",
    "count\n"
   ]
  },
  {
   "cell_type": "markdown",
   "metadata": {},
   "source": [
    "5. The experiment is to roll four dice.  Approximate the probability of the roll being less than or equal to ten."
   ]
  },
  {
   "cell_type": "code",
   "execution_count": 9,
   "metadata": {},
   "outputs": [
    {
     "data": {
      "text/plain": [
       "0.1627"
      ]
     },
     "execution_count": 9,
     "metadata": {},
     "output_type": "execute_result"
    }
   ],
   "source": [
    "#5\n",
    "\n",
    "import random\n",
    "random.seed(42)\n",
    "\n",
    "trials = 10000\n",
    "success = 0\n",
    "\n",
    "for x in range(trials):\n",
    "    if (random.randint(1,6) + random.randint(1,6) + random.randint(1,6) + random.randint(1,6)) <= 10:\n",
    "        success+=1\n",
    "\n",
    "\n",
    "success/trials"
   ]
  },
  {
   "cell_type": "markdown",
   "metadata": {},
   "source": [
    "6. The experiment is to flip a coin 12 times.  Let $h$ be the number of times you get heads, and approximate the probability that $h\\le 4$ or $h\\ge 8$."
   ]
  },
  {
   "cell_type": "code",
   "execution_count": 3,
   "metadata": {},
   "outputs": [
    {
     "name": "stdout",
     "output_type": "stream",
     "text": [
      "0.38935\n"
     ]
    }
   ],
   "source": [
    "#6\n",
    "\n",
    "# Probability should be 38.76% \n",
    "\n",
    "import random\n",
    "random.seed(42)\n",
    "\n",
    "trials = 100000\n",
    "success = 0\n",
    "\n",
    "for i in range(trials):\n",
    "    h = 0\n",
    "    for j in range(1,13):\n",
    "        if random.randint(0,1) == 1:\n",
    "            h += 1\n",
    "    if h <= 4 or h >= 8:\n",
    "        success += 1\n",
    "\n",
    "print(success/trials)          "
   ]
  },
  {
   "cell_type": "markdown",
   "metadata": {},
   "source": [
    "7. A bag contains 10 red and 20 green marbles.  Draw 5 without replacement.\n",
    "\n",
    "  a. What is the probability that all 5 are green?\n",
    "  \n",
    "  b. What is the probability of getting 2 red and 3 green?"
   ]
  },
  {
   "cell_type": "code",
   "execution_count": 13,
   "metadata": {},
   "outputs": [
    {
     "data": {
      "text/plain": [
       "0.1093"
      ]
     },
     "execution_count": 13,
     "metadata": {},
     "output_type": "execute_result"
    }
   ],
   "source": [
    "#7a\n",
    "# Let the red marbles be marbles 1-10.\n",
    "# Let the green marbles be marbles 11-30.\n",
    "# Probability should be ~ 10.8%\n",
    "\n",
    "import random\n",
    "random.seed(42)\n",
    "\n",
    "green = 0\n",
    "trials = 10000\n",
    "\n",
    "for _ in range(trials):\n",
    "    draw = random.sample(range(1,31),5)\n",
    "\n",
    "    if ((min(draw) >= 11) and (max(draw)) <= 30): # Success\n",
    "            green += 1             \n",
    "\n",
    "green/trials"
   ]
  },
  {
   "cell_type": "code",
   "execution_count": 9,
   "metadata": {},
   "outputs": [
    {
     "data": {
      "text/plain": [
       "0.3631"
      ]
     },
     "execution_count": 9,
     "metadata": {},
     "output_type": "execute_result"
    }
   ],
   "source": [
    "#7b\n",
    "# Let the red marbles be marbles 1-10.\n",
    "# Let the green marbles be marbles 11-30.\n",
    "# Want 2 red and 3 green\n",
    "\n",
    "# Probability should be ~36%\n",
    "\n",
    "import random\n",
    "random.seed(42)\n",
    "\n",
    "success = 0\n",
    "trials = 10000\n",
    "\n",
    "for _ in range(trials):\n",
    "    draw = list(sorted(random.sample(range(1,31),5)))\n",
    "    \n",
    "    if ((draw[1] <= 10) and (draw[2] >= 11)): \n",
    "            success += 1             \n",
    "\n",
    "success/trials"
   ]
  },
  {
   "cell_type": "code",
   "execution_count": null,
   "metadata": {},
   "outputs": [],
   "source": []
  }
 ],
 "metadata": {
  "hide_input": false,
  "kernelspec": {
   "display_name": "Python 3 (ipykernel)",
   "language": "python",
   "name": "python3"
  },
  "language_info": {
   "codemirror_mode": {
    "name": "ipython",
    "version": 3
   },
   "file_extension": ".py",
   "mimetype": "text/x-python",
   "name": "python",
   "nbconvert_exporter": "python",
   "pygments_lexer": "ipython3",
   "version": "3.11.4"
  },
  "toc": {
   "base_numbering": 1,
   "nav_menu": {},
   "number_sections": true,
   "sideBar": true,
   "skip_h1_title": true,
   "title_cell": "Table of Contents",
   "title_sidebar": "Contents",
   "toc_cell": false,
   "toc_position": {},
   "toc_section_display": true,
   "toc_window_display": false
  }
 },
 "nbformat": 4,
 "nbformat_minor": 4
}
